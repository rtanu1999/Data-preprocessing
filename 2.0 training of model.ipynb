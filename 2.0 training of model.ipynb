{
 "cells": [
  {
   "cell_type": "markdown",
   "metadata": {},
   "source": [
    "# Convolutional Neural Network Architecture"
   ]
  },
  {
   "cell_type": "code",
   "execution_count": 19,
   "metadata": {},
   "outputs": [],
   "source": [
    "import numpy as np\n",
    "\n",
    "data=np.load('data.npy')\n",
    "target=np.load('target.npy')\n",
    "\n",
    "#loading the save numpy arrays in the previous code"
   ]
  },
  {
   "cell_type": "code",
   "execution_count": 20,
   "metadata": {},
   "outputs": [],
   "source": [
    "from tensorflow.keras.models import Sequential\n",
    "from tensorflow.keras.layers import Dense,Activation,Flatten,Dropout\n",
    "from tensorflow.keras.layers import Conv2D,MaxPooling2D\n",
    "from tensorflow.keras.callbacks import ModelCheckpoint"
   ]
  },
  {
   "cell_type": "code",
   "execution_count": 21,
   "metadata": {},
   "outputs": [],
   "source": [
    "model=Sequential()"
   ]
  },
  {
   "cell_type": "code",
   "execution_count": 22,
   "metadata": {},
   "outputs": [],
   "source": [
    "model.add(Conv2D(200,(3,3),input_shape=data.shape[1:]))\n",
    "\n",
    "\n",
    "#The first CNN layer followed by Relu and MaxPooling layers\n"
   ]
  },
  {
   "cell_type": "code",
   "execution_count": 23,
   "metadata": {},
   "outputs": [],
   "source": [
    "model.add(Activation('relu'))"
   ]
  },
  {
   "cell_type": "code",
   "execution_count": 24,
   "metadata": {},
   "outputs": [],
   "source": [
    "model.add(MaxPooling2D(pool_size=(2,2)))"
   ]
  },
  {
   "cell_type": "code",
   "execution_count": 25,
   "metadata": {},
   "outputs": [],
   "source": [
    "model.add(Conv2D(100,(3,3)))\n",
    "model.add(Activation('relu'))\n",
    "model.add(MaxPooling2D(pool_size=(2,2)))"
   ]
  },
  {
   "cell_type": "code",
   "execution_count": 26,
   "metadata": {},
   "outputs": [],
   "source": [
    "model.add(Flatten())\n",
    "model.add(Dropout(0.5))"
   ]
  },
  {
   "cell_type": "code",
   "execution_count": 27,
   "metadata": {},
   "outputs": [],
   "source": [
    "model.add(Dense(50,activation='relu')) #here 50 neurons in hidden layer \n",
    "model.add(Dense(2,activation='softmax'))"
   ]
  },
  {
   "cell_type": "code",
   "execution_count": 28,
   "metadata": {},
   "outputs": [
    {
     "name": "stdout",
     "output_type": "stream",
     "text": [
      "Model: \"sequential_1\"\n",
      "_________________________________________________________________\n",
      "Layer (type)                 Output Shape              Param #   \n",
      "=================================================================\n",
      "conv2d_2 (Conv2D)            (None, 98, 98, 200)       2000      \n",
      "_________________________________________________________________\n",
      "activation_2 (Activation)    (None, 98, 98, 200)       0         \n",
      "_________________________________________________________________\n",
      "max_pooling2d_2 (MaxPooling2 (None, 49, 49, 200)       0         \n",
      "_________________________________________________________________\n",
      "conv2d_3 (Conv2D)            (None, 47, 47, 100)       180100    \n",
      "_________________________________________________________________\n",
      "activation_3 (Activation)    (None, 47, 47, 100)       0         \n",
      "_________________________________________________________________\n",
      "max_pooling2d_3 (MaxPooling2 (None, 23, 23, 100)       0         \n",
      "_________________________________________________________________\n",
      "flatten_1 (Flatten)          (None, 52900)             0         \n",
      "_________________________________________________________________\n",
      "dropout_1 (Dropout)          (None, 52900)             0         \n",
      "_________________________________________________________________\n",
      "dense_2 (Dense)              (None, 50)                2645050   \n",
      "_________________________________________________________________\n",
      "dense_3 (Dense)              (None, 2)                 102       \n",
      "=================================================================\n",
      "Total params: 2,827,252\n",
      "Trainable params: 2,827,252\n",
      "Non-trainable params: 0\n",
      "_________________________________________________________________\n"
     ]
    }
   ],
   "source": [
    "model.compile(loss='categorical_crossentropy',optimizer='adam',metrics=['accuracy'])\n",
    "model.summary()"
   ]
  },
  {
   "cell_type": "code",
   "execution_count": 29,
   "metadata": {},
   "outputs": [],
   "source": [
    "from sklearn.model_selection import train_test_split\n",
    "\n",
    "train_data,test_data,train_target,test_target=train_test_split(data,target,test_size=0.1)\n",
    "checkpoint = ModelCheckpoint('model-{epoch:03d}.model',monitor='val_loss',verbose=0,save_best_only=True,mode='auto')"
   ]
  },
  {
   "cell_type": "code",
   "execution_count": 30,
   "metadata": {},
   "outputs": [
    {
     "name": "stdout",
     "output_type": "stream",
     "text": [
      "Epoch 1/20\n",
      "31/31 [==============================] - 46s 1s/step - loss: 1.2183 - accuracy: 0.5136 - val_loss: 0.6925 - val_accuracy: 0.5565\n",
      "INFO:tensorflow:Assets written to: model-001.model\\assets\n",
      "Epoch 2/20\n",
      "31/31 [==============================] - 46s 2s/step - loss: 0.6910 - accuracy: 0.5470 - val_loss: 0.6586 - val_accuracy: 0.5565\n",
      "INFO:tensorflow:Assets written to: model-002.model\\assets\n",
      "Epoch 3/20\n",
      "31/31 [==============================] - 43s 1s/step - loss: 0.5906 - accuracy: 0.6715 - val_loss: 0.5016 - val_accuracy: 0.7903\n",
      "INFO:tensorflow:Assets written to: model-003.model\\assets\n",
      "Epoch 4/20\n",
      "31/31 [==============================] - 42s 1s/step - loss: 0.4059 - accuracy: 0.8259 - val_loss: 0.3525 - val_accuracy: 0.8589\n",
      "INFO:tensorflow:Assets written to: model-004.model\\assets\n",
      "Epoch 5/20\n",
      "31/31 [==============================] - 44s 1s/step - loss: 0.2741 - accuracy: 0.8993 - val_loss: 0.3615 - val_accuracy: 0.8589\n",
      "Epoch 6/20\n",
      "31/31 [==============================] - 43s 1s/step - loss: 0.1634 - accuracy: 0.9371 - val_loss: 0.2905 - val_accuracy: 0.8911\n",
      "INFO:tensorflow:Assets written to: model-006.model\\assets\n",
      "Epoch 7/20\n",
      "31/31 [==============================] - 42s 1s/step - loss: 0.1718 - accuracy: 0.9353 - val_loss: 0.1946 - val_accuracy: 0.9315\n",
      "INFO:tensorflow:Assets written to: model-007.model\\assets\n",
      "Epoch 8/20\n",
      "31/31 [==============================] - 41s 1s/step - loss: 0.1311 - accuracy: 0.9494 - val_loss: 0.2799 - val_accuracy: 0.8952\n",
      "Epoch 9/20\n",
      "31/31 [==============================] - 42s 1s/step - loss: 0.1208 - accuracy: 0.9603 - val_loss: 0.2614 - val_accuracy: 0.9194\n",
      "Epoch 10/20\n",
      "31/31 [==============================] - 42s 1s/step - loss: 0.0647 - accuracy: 0.9837 - val_loss: 0.2113 - val_accuracy: 0.9355\n",
      "Epoch 11/20\n",
      "31/31 [==============================] - 42s 1s/step - loss: 0.0534 - accuracy: 0.9851 - val_loss: 0.2130 - val_accuracy: 0.9355\n",
      "Epoch 12/20\n",
      "31/31 [==============================] - 43s 1s/step - loss: 0.0504 - accuracy: 0.9788 - val_loss: 0.2148 - val_accuracy: 0.9315\n",
      "Epoch 13/20\n",
      "31/31 [==============================] - 47s 2s/step - loss: 0.0441 - accuracy: 0.9875 - val_loss: 0.1913 - val_accuracy: 0.9395\n",
      "INFO:tensorflow:Assets written to: model-013.model\\assets\n",
      "Epoch 14/20\n",
      "31/31 [==============================] - 48s 2s/step - loss: 0.0401 - accuracy: 0.9856 - val_loss: 0.2936 - val_accuracy: 0.9234\n",
      "Epoch 15/20\n",
      "31/31 [==============================] - 45s 1s/step - loss: 0.0377 - accuracy: 0.9894 - val_loss: 0.1995 - val_accuracy: 0.9395\n",
      "Epoch 16/20\n",
      "31/31 [==============================] - 45s 1s/step - loss: 0.0462 - accuracy: 0.9780 - val_loss: 0.2672 - val_accuracy: 0.9274\n",
      "Epoch 17/20\n",
      "31/31 [==============================] - 44s 1s/step - loss: 0.0443 - accuracy: 0.9878 - val_loss: 0.2089 - val_accuracy: 0.9476\n",
      "Epoch 18/20\n",
      "31/31 [==============================] - 44s 1s/step - loss: 0.0541 - accuracy: 0.9734 - val_loss: 0.2024 - val_accuracy: 0.9435\n",
      "Epoch 19/20\n",
      "31/31 [==============================] - 44s 1s/step - loss: 0.0412 - accuracy: 0.9844 - val_loss: 0.2158 - val_accuracy: 0.9476\n",
      "Epoch 20/20\n",
      "31/31 [==============================] - 44s 1s/step - loss: 0.0126 - accuracy: 0.9979 - val_loss: 0.2768 - val_accuracy: 0.9395\n"
     ]
    }
   ],
   "source": [
    "\n",
    "history=model.fit(train_data,train_target,epochs=20,callbacks=[checkpoint],validation_split=0.2)"
   ]
  },
  {
   "cell_type": "code",
   "execution_count": 31,
   "metadata": {},
   "outputs": [
    {
     "data": {
      "image/png": "[encoded data removed]",
      "text/plain": [
       "<Figure size 432x288 with 1 Axes>"
      ]
     },
     "metadata": {
      "needs_background": "light"
     },
     "output_type": "display_data"
    }
   ],
   "source": [
    "from matplotlib import pyplot as plt\n",
    "\n",
    "plt.plot(history.history['loss'],'r',label='training loss')\n",
    "plt.plot(history.history['val_loss'],label='validation loss')\n",
    "plt.xlabel('# epochs')\n",
    "plt.ylabel('loss')\n",
    "plt.legend()\n",
    "plt.show()"
   ]
  },
  {
   "cell_type": "code",
   "execution_count": 32,
   "metadata": {},
   "outputs": [
    {
     "data": {
      "image/png": "[encoded data removed]",
      "text/plain": [
       "<Figure size 432x288 with 1 Axes>"
      ]
     },
     "metadata": {
      "needs_background": "light"
     },
     "output_type": "display_data"
    }
   ],
   "source": [
    "plt.plot(history.history['accuracy'],'r',label='training accuracy')\n",
    "plt.plot(history.history['val_accuracy'],label='validation accuracy')\n",
    "plt.xlabel('# epochs')\n",
    "plt.ylabel('accuracy')\n",
    "plt.legend()\n",
    "plt.show()"
   ]
  },
  {
   "cell_type": "code",
   "execution_count": 33,
   "metadata": {
    "scrolled": true
   },
   "outputs": [
    {
     "name": "stdout",
     "output_type": "stream",
     "text": [
      "5/5 [==============================] - 2s 299ms/step - loss: 0.1080 - accuracy: 0.9783\n",
      "[0.1080319881439209, 0.97826087474823]\n"
     ]
    }
   ],
   "source": [
    "print(model.evaluate(test_data,test_target))"
   ]
  },
  {
   "cell_type": "code",
   "execution_count": null,
   "metadata": {},
   "outputs": [],
   "source": []
  }
 ],
 "metadata": {
  "kernelspec": {
   "display_name": "Python 3",
   "language": "python",
   "name": "python3"
  },
  "language_info": {
   "codemirror_mode": {
    "name": "ipython",
    "version": 3
   },
   "file_extension": ".py",
   "mimetype": "text/x-python",
   "name": "python",
   "nbconvert_exporter": "python",
   "pygments_lexer": "ipython3",
   "version": "3.7.3"
  }
 },
 "nbformat": 4,
 "nbformat_minor": 4
}
